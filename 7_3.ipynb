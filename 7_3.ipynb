{
 "cells": [
  {
   "cell_type": "markdown",
   "metadata": {},
   "source": [
    "Zadanie 3. (Komputerowe) Poniższy problem nie ma prostego rozwiązania analitycznego, dlatego\n",
    "użyj metody Monte Carlo.\n",
    "\n",
    "Superkomputer dzielony jest przez 250 niezależnych użytkowników.\n",
    "\n",
    "Każdego dnia każdy użytkownik\n",
    "używa go z prawdopodobieństwem 0.3.\n",
    "\n",
    "Liczba zadań wysłanych przez aktywnego użytkownika ma\n",
    "rozkład geometryczny z p = 0.15.\n",
    "\n",
    "Czas na rozwiązanie pojedynczego zadania w minutach ma rozkład\n",
    "Gamma(10,3).\n",
    "\n",
    "Zadania przetwarzane są sekwencyjnie.\n",
    "\n",
    "Jakie jest prawdopodobieństwo, że wszystkie\n",
    "zadania zostaną przetworzone, tzn., że łączny żądany czas komputera będzie mniejszy niż 24 godziny?\n",
    "\n",
    "Oszacuj prawdopodobieństwo przyjmując margines błędu ±0.01 z prawdopodobieństwem 0.99.\n",
    "\n",
    "Oszacuj również wartość oczekiwaną i odchylenie standardowe całkowitego czasu przetwarzania."
   ]
  },
  {
   "cell_type": "markdown",
   "metadata": {},
   "source": [
    "Rozwiązanie:"
   ]
  },
  {
   "cell_type": "markdown",
   "metadata": {},
   "source": [
    "aby uzyskać wymaganą dokładność ($\\alpha = 0.01, \\epsilon = 0.01$), użyjemy\n",
    "$$ N \\geq 0.25 (\\frac{z_{\\alpha / 2}}{\\epsilon})^2 = 0.25 (\\frac{2.575}{0.01})^2 = 16,577 $$\n",
    "\n",
    "symulacji, gdzie $z_{\\alpha / 2}$ odczytaliśmy z tablic. Faktycznie, $\\Phi(2.575) \\approx 0.995$."
   ]
  },
  {
   "cell_type": "code",
   "execution_count": 1,
   "metadata": {},
   "outputs": [
    {
     "data": {
      "text/plain": [
       "0.17252820172528202"
      ]
     },
     "execution_count": 1,
     "metadata": {},
     "output_type": "execute_result"
    }
   ],
   "source": [
    "import random\n",
    "import math\n",
    "import numpy as np\n",
    "\n",
    "N = 16577 # ilość symulacji\n",
    "\n",
    "totalUsers = 250   # parametry\n",
    "p = 0.3\n",
    "q = 0.15\n",
    "\n",
    "beta = 10 # parametry rozkładu Gamma\n",
    "lmbd = 3\n",
    "\n",
    "czasy = [] # tu zapiszemy czasy działania każdego eksperymentu\n",
    "\n",
    "for _ in range(N): # N eksperymentów\n",
    "    \n",
    "    activeUsers = 0\n",
    "    for _ in range(totalUsers): # losujemy każdego użytkownika czy jest tego dnia aktywny\n",
    "        if random.uniform(0,1) < p:\n",
    "            activeUsers += 1\n",
    "            \n",
    "    totalTasks = 0\n",
    "    for _ in range(activeUsers):\n",
    "        totalTasks += math.ceil(math.log(1 - random.uniform(0, 1)) / math.log(1-q))\n",
    "    \n",
    "    totalTime = sum(np.random.gamma(10, 1/3, totalTasks))\n",
    "        \n",
    "    czasy.append(totalTime)\n",
    "\n",
    "sum(t < 1440 for t in czasy) / N    # proporcja czasów w których testy zajęły mniej niż 24h = 1440min, to nasz estymator"
   ]
  },
  {
   "cell_type": "markdown",
   "metadata": {},
   "source": [
    "nasz powyższy wynik to szacowane prawdopodobieństwom że wszystkie zadania zostaną przetworzone."
   ]
  },
  {
   "cell_type": "markdown",
   "metadata": {},
   "source": [
    "oczekiwany czas to po prostu srednia:"
   ]
  },
  {
   "cell_type": "code",
   "execution_count": 2,
   "metadata": {},
   "outputs": [
    {
     "data": {
      "text/plain": [
       "1668.9487994591614"
      ]
     },
     "execution_count": 2,
     "metadata": {},
     "output_type": "execute_result"
    }
   ],
   "source": [
    "import statistics\n",
    "statistics.mean(czasy)"
   ]
  },
  {
   "cell_type": "markdown",
   "metadata": {},
   "source": [
    "odchylenie standardowe:"
   ]
  },
  {
   "cell_type": "code",
   "execution_count": 3,
   "metadata": {},
   "outputs": [
    {
     "data": {
      "text/plain": [
       "240.81518408471126"
      ]
     },
     "execution_count": 3,
     "metadata": {},
     "output_type": "execute_result"
    }
   ],
   "source": [
    "np.std(czasy)"
   ]
  },
  {
   "cell_type": "code",
   "execution_count": null,
   "metadata": {},
   "outputs": [],
   "source": []
  }
 ],
 "metadata": {
  "kernelspec": {
   "display_name": "Python 3",
   "language": "python",
   "name": "python3"
  },
  "language_info": {
   "codemirror_mode": {
    "name": "ipython",
    "version": 3
   },
   "file_extension": ".py",
   "mimetype": "text/x-python",
   "name": "python",
   "nbconvert_exporter": "python",
   "pygments_lexer": "ipython3",
   "version": "3.7.4"
  }
 },
 "nbformat": 4,
 "nbformat_minor": 4
}
